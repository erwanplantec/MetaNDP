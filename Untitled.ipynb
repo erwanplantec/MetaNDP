{
 "cells": [
  {
   "cell_type": "code",
   "execution_count": 1,
   "id": "2c125d88",
   "metadata": {},
   "outputs": [],
   "source": [
    "import jax\n",
    "import jax.numpy as jnp"
   ]
  },
  {
   "cell_type": "code",
   "execution_count": 2,
   "id": "fbfdebfd",
   "metadata": {},
   "outputs": [],
   "source": [
    "from nca import NCA_Config, NCA_Trainer, default_config\n",
    "from metandp import Config"
   ]
  },
  {
   "cell_type": "code",
   "execution_count": 3,
   "id": "7b60fa0c",
   "metadata": {},
   "outputs": [],
   "source": [
    "config = Config(\n",
    "    ndp_config = default_config(), \n",
    "    outer_epochs = 10,\n",
    "    inner_epochs = 2,\n",
    "    hidden_dims = 64, hidden_layers = 2,\n",
    ")"
   ]
  },
  {
   "cell_type": "code",
   "execution_count": 4,
   "id": "e4759dbe",
   "metadata": {},
   "outputs": [
    {
     "name": "stdout",
     "output_type": "stream",
     "text": [
      "ParameterReshaper: 6792 parameters detected for optimization.\n"
     ]
    }
   ],
   "source": [
    "trainer = NCA_Trainer(config)"
   ]
  },
  {
   "cell_type": "code",
   "execution_count": 5,
   "id": "593837e7",
   "metadata": {},
   "outputs": [
    {
     "ename": "AttributeError",
     "evalue": "module 'jax.lax' has no attribute 'foriloop'",
     "output_type": "error",
     "traceback": [
      "\u001b[0;31m---------------------------------------------------------------------------\u001b[0m",
      "\u001b[0;31mAttributeError\u001b[0m                            Traceback (most recent call last)",
      "Cell \u001b[0;32mIn[5], line 2\u001b[0m\n\u001b[1;32m      1\u001b[0m key \u001b[38;5;241m=\u001b[39m jax\u001b[38;5;241m.\u001b[39mrandom\u001b[38;5;241m.\u001b[39mPRNGKey(\u001b[38;5;241m42\u001b[39m)\n\u001b[0;32m----> 2\u001b[0m \u001b[43mtrainer\u001b[49m\u001b[38;5;241;43m.\u001b[39;49m\u001b[43mtrain\u001b[49m\u001b[43m(\u001b[49m\u001b[43mkey\u001b[49m\u001b[43m)\u001b[49m\n",
      "File \u001b[0;32m~/Library/CloudStorage/OneDrive-ITU/Documents/projects/MetaNDP/metandp.py:212\u001b[0m, in \u001b[0;36mNDP_Trainer._build_trainer.<locals>.train\u001b[0;34m(key)\u001b[0m\n\u001b[1;32m    210\u001b[0m oes_state \u001b[38;5;241m=\u001b[39m \u001b[38;5;28mself\u001b[39m\u001b[38;5;241m.\u001b[39moes\u001b[38;5;241m.\u001b[39minitialize(init_key, \u001b[38;5;28mself\u001b[39m\u001b[38;5;241m.\u001b[39moes_params)\n\u001b[1;32m    211\u001b[0m gens \u001b[38;5;241m=\u001b[39m jnp\u001b[38;5;241m.\u001b[39marange(\u001b[38;5;28mself\u001b[39m\u001b[38;5;241m.\u001b[39mconfig\u001b[38;5;241m.\u001b[39mouter_epochs)\n\u001b[0;32m--> 212\u001b[0m [oes_state, _], data \u001b[38;5;241m=\u001b[39m \u001b[43mjax\u001b[49m\u001b[38;5;241;43m.\u001b[39;49m\u001b[43mlax\u001b[49m\u001b[38;5;241;43m.\u001b[39;49m\u001b[43mscan\u001b[49m\u001b[43m(\u001b[49m\u001b[43moes_step\u001b[49m\u001b[43m,\u001b[49m\u001b[43m \u001b[49m\u001b[43m[\u001b[49m\u001b[43moes_state\u001b[49m\u001b[43m,\u001b[49m\u001b[43m \u001b[49m\u001b[43mkey\u001b[49m\u001b[43m]\u001b[49m\u001b[43m,\u001b[49m\u001b[43m \u001b[49m\u001b[43mgens\u001b[49m\u001b[43m)\u001b[49m\n",
      "    \u001b[0;31m[... skipping hidden 21 frame]\u001b[0m\n",
      "File \u001b[0;32m~/Library/CloudStorage/OneDrive-ITU/Documents/projects/MetaNDP/metandp.py:201\u001b[0m, in \u001b[0;36mNDP_Trainer._build_trainer.<locals>.oes_step\u001b[0;34m(carry, iter)\u001b[0m\n\u001b[1;32m    199\u001b[0m ndp_params_flat, oes_state \u001b[38;5;241m=\u001b[39m \u001b[38;5;28mself\u001b[39m\u001b[38;5;241m.\u001b[39moes\u001b[38;5;241m.\u001b[39mask(ask_key, oes_state, \u001b[38;5;28mself\u001b[39m\u001b[38;5;241m.\u001b[39moes_params)\n\u001b[1;32m    200\u001b[0m ndp_params \u001b[38;5;241m=\u001b[39m \u001b[38;5;28mself\u001b[39m\u001b[38;5;241m.\u001b[39mparams_shaper\u001b[38;5;241m.\u001b[39mreshape(ndp_params_flat)\n\u001b[0;32m--> 201\u001b[0m fitness \u001b[38;5;241m=\u001b[39m \u001b[38;5;28;43mself\u001b[39;49m\u001b[38;5;241;43m.\u001b[39;49m\u001b[43meval\u001b[49m\u001b[43m(\u001b[49m\u001b[43mndp_params\u001b[49m\u001b[43m,\u001b[49m\u001b[43m \u001b[49m\u001b[43meval_key\u001b[49m\u001b[43m)\u001b[49m\n\u001b[1;32m    202\u001b[0m fitness_re \u001b[38;5;241m=\u001b[39m \u001b[38;5;28mself\u001b[39m\u001b[38;5;241m.\u001b[39moes_fitness_shaper\u001b[38;5;241m.\u001b[39mapply(fitness)\n\u001b[1;32m    203\u001b[0m oes_state \u001b[38;5;241m=\u001b[39m \u001b[38;5;28mself\u001b[39m\u001b[38;5;241m.\u001b[39moes\u001b[38;5;241m.\u001b[39mtell(ndp_params_flat, fitness_re, oes_state, \u001b[38;5;28mself\u001b[39m\u001b[38;5;241m.\u001b[39moes_params)\n",
      "    \u001b[0;31m[... skipping hidden 3 frame]\u001b[0m\n",
      "File \u001b[0;32m~/Library/CloudStorage/OneDrive-ITU/Documents/projects/MetaNDP/metandp.py:181\u001b[0m, in \u001b[0;36mNDP_Trainer._build_eval.<locals>.evaluate\u001b[0;34m(ndp_params, key)\u001b[0m\n\u001b[1;32m    179\u001b[0m ies_state \u001b[38;5;241m=\u001b[39m \u001b[38;5;28mself\u001b[39m\u001b[38;5;241m.\u001b[39mies\u001b[38;5;241m.\u001b[39minitialize(init_key, \u001b[38;5;28mself\u001b[39m\u001b[38;5;241m.\u001b[39mies_params)\n\u001b[1;32m    180\u001b[0m gens \u001b[38;5;241m=\u001b[39m jnp\u001b[38;5;241m.\u001b[39marange(\u001b[38;5;28mself\u001b[39m\u001b[38;5;241m.\u001b[39mconfig\u001b[38;5;241m.\u001b[39minner_epochs)\n\u001b[0;32m--> 181\u001b[0m [ies_state, _], data \u001b[38;5;241m=\u001b[39m \u001b[43mjax\u001b[49m\u001b[38;5;241;43m.\u001b[39;49m\u001b[43mlax\u001b[49m\u001b[38;5;241;43m.\u001b[39;49m\u001b[43mscan\u001b[49m\u001b[43m(\u001b[49m\u001b[43mies_step\u001b[49m\u001b[43m,\u001b[49m\u001b[43m \u001b[49m\u001b[43m[\u001b[49m\u001b[43mies_state\u001b[49m\u001b[43m,\u001b[49m\u001b[43m \u001b[49m\u001b[43mkey\u001b[49m\u001b[43m]\u001b[49m\u001b[43m,\u001b[49m\u001b[43m \u001b[49m\u001b[43mgens\u001b[49m\u001b[43m)\u001b[49m\n\u001b[1;32m    183\u001b[0m \u001b[38;5;66;03m# compute final fitness of ndp params\u001b[39;00m\n\u001b[1;32m    184\u001b[0m fitnesss \u001b[38;5;241m=\u001b[39m data[\u001b[38;5;124m\"\u001b[39m\u001b[38;5;124mfitness\u001b[39m\u001b[38;5;124m\"\u001b[39m] \u001b[38;5;66;03m#(gens, pop)\u001b[39;00m\n",
      "    \u001b[0;31m[... skipping hidden 21 frame]\u001b[0m\n",
      "File \u001b[0;32m~/Library/CloudStorage/OneDrive-ITU/Documents/projects/MetaNDP/metandp.py:159\u001b[0m, in \u001b[0;36mNDP_Trainer._build_eval.<locals>.evaluate.<locals>.ies_step\u001b[0;34m(carry, iter)\u001b[0m\n\u001b[1;32m    156\u001b[0m key, ask_key, eval_key \u001b[38;5;241m=\u001b[39m random\u001b[38;5;241m.\u001b[39msplit(key, \u001b[38;5;241m3\u001b[39m)\n\u001b[1;32m    158\u001b[0m z, ies_state \u001b[38;5;241m=\u001b[39m \u001b[38;5;28mself\u001b[39m\u001b[38;5;241m.\u001b[39mies\u001b[38;5;241m.\u001b[39mask(ask_key, ies_state, \u001b[38;5;28mself\u001b[39m\u001b[38;5;241m.\u001b[39mies_params)\n\u001b[0;32m--> 159\u001b[0m policy_params \u001b[38;5;241m=\u001b[39m \u001b[43mjax\u001b[49m\u001b[38;5;241;43m.\u001b[39;49m\u001b[43mvmap\u001b[49m\u001b[43m(\u001b[49m\u001b[38;5;28;43mself\u001b[39;49m\u001b[38;5;241;43m.\u001b[39;49m\u001b[43mndp\u001b[49m\u001b[43m,\u001b[49m\u001b[43m \u001b[49m\u001b[43min_axes\u001b[49m\u001b[38;5;241;43m=\u001b[39;49m\u001b[43m(\u001b[49m\u001b[38;5;28;43;01mNone\u001b[39;49;00m\u001b[43m,\u001b[49m\u001b[43m \u001b[49m\u001b[38;5;241;43m0\u001b[39;49m\u001b[43m)\u001b[49m\u001b[43m)\u001b[49m\u001b[43m(\u001b[49m\u001b[43mndp_params\u001b[49m\u001b[43m,\u001b[49m\u001b[43m \u001b[49m\u001b[43mz\u001b[49m\u001b[43m)\u001b[49m\n\u001b[1;32m    161\u001b[0m rollout_data \u001b[38;5;241m=\u001b[39m \u001b[38;5;28mself\u001b[39m\u001b[38;5;241m.\u001b[39menv_rollout(eval_key, policy_params)\n\u001b[1;32m    162\u001b[0m bd \u001b[38;5;241m=\u001b[39m bd_extractor(rollout_data) \u001b[38;5;66;03m#(popsize, bd_dims)\u001b[39;00m\n",
      "    \u001b[0;31m[... skipping hidden 3 frame]\u001b[0m\n",
      "File \u001b[0;32m~/Library/CloudStorage/OneDrive-ITU/Documents/projects/MetaNDP/nca.py:118\u001b[0m, in \u001b[0;36mNCA_Trainer.init_ndp.<locals>.ndp\u001b[0;34m(ndp_params, z)\u001b[0m\n\u001b[1;32m    116\u001b[0m \u001b[38;5;28;01mdef\u001b[39;00m \u001b[38;5;21mndp\u001b[39m(ndp_params: Collection, z: jnp\u001b[38;5;241m.\u001b[39marray)\u001b[38;5;241m-\u001b[39m\u001b[38;5;241m>\u001b[39mCollection:\n\u001b[1;32m    117\u001b[0m \tw \u001b[38;5;241m=\u001b[39m init_w(z)\n\u001b[0;32m--> 118\u001b[0m \tw \u001b[38;5;241m=\u001b[39m \u001b[43mjax\u001b[49m\u001b[38;5;241;43m.\u001b[39;49m\u001b[43mlax\u001b[49m\u001b[38;5;241;43m.\u001b[39;49m\u001b[43mforiloop\u001b[49m(\u001b[38;5;241m0\u001b[39m, \u001b[38;5;28mself\u001b[39m\u001b[38;5;241m.\u001b[39mconfig\u001b[38;5;241m.\u001b[39miterations, \n\u001b[1;32m    119\u001b[0m \t\t\u001b[38;5;28;01mlambda\u001b[39;00m i, x: nca\u001b[38;5;241m.\u001b[39mapply(ndp_params, x), w)\n\u001b[1;32m    120\u001b[0m \tmlp_params \u001b[38;5;241m=\u001b[39m {\n\u001b[1;32m    121\u001b[0m \t\t\u001b[38;5;124m\"\u001b[39m\u001b[38;5;124mlayers_0\u001b[39m\u001b[38;5;124m\"\u001b[39m: {\u001b[38;5;124m\"\u001b[39m\u001b[38;5;124mkernel\u001b[39m\u001b[38;5;124m\"\u001b[39m: w[xi:xi\u001b[38;5;241m+\u001b[39midims, :, \u001b[38;5;241m0\u001b[39m, \u001b[38;5;241m0\u001b[39m]},\n\u001b[1;32m    122\u001b[0m \t\t\u001b[38;5;124m\"\u001b[39m\u001b[38;5;124mout_layer\u001b[39m\u001b[38;5;124m\"\u001b[39m: {\u001b[38;5;124m\"\u001b[39m\u001b[38;5;124mkernel\u001b[39m\u001b[38;5;124m\"\u001b[39m: w[:, xo:xo\u001b[38;5;241m+\u001b[39modims, \u001b[38;5;241m-\u001b[39m\u001b[38;5;241m1\u001b[39m, \u001b[38;5;241m0\u001b[39m]},\n\u001b[0;32m   (...)\u001b[0m\n\u001b[1;32m    125\u001b[0m \t\t\u001b[38;5;28;01mfor\u001b[39;00m i \u001b[38;5;129;01min\u001b[39;00m \u001b[38;5;28mrange\u001b[39m(\u001b[38;5;241m1\u001b[39m, D)}\n\u001b[1;32m    126\u001b[0m \t}\n\u001b[1;32m    127\u001b[0m \tmlp_params \u001b[38;5;241m=\u001b[39m {\u001b[38;5;124m\"\u001b[39m\u001b[38;5;124mparams\u001b[39m\u001b[38;5;124m\"\u001b[39m: mlp_params}\n",
      "\u001b[0;31mAttributeError\u001b[0m: module 'jax.lax' has no attribute 'foriloop'"
     ]
    }
   ],
   "source": [
    "key = jax.random.PRNGKey(42)\n",
    "trainer.train(key)"
   ]
  },
  {
   "cell_type": "code",
   "execution_count": 7,
   "id": "09b93f88",
   "metadata": {},
   "outputs": [],
   "source": [
    "ndp = trainer.ndp"
   ]
  }
 ],
 "metadata": {
  "kernelspec": {
   "display_name": "metandp",
   "language": "python",
   "name": "metandp"
  },
  "language_info": {
   "codemirror_mode": {
    "name": "ipython",
    "version": 3
   },
   "file_extension": ".py",
   "mimetype": "text/x-python",
   "name": "python",
   "nbconvert_exporter": "python",
   "pygments_lexer": "ipython3",
   "version": "3.11.3"
  }
 },
 "nbformat": 4,
 "nbformat_minor": 5
}
