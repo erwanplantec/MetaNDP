{
 "cells": [
  {
   "cell_type": "code",
   "execution_count": 1,
   "id": "996b2b07",
   "metadata": {},
   "outputs": [],
   "source": [
    "from nca import NCA_Config, NCA_Trainer, default_config\n",
    "from metandp import Config"
   ]
  },
  {
   "cell_type": "code",
   "execution_count": 2,
   "id": "25362c46",
   "metadata": {},
   "outputs": [],
   "source": [
    "config = Config(\n",
    "    ndp_config = default_config(), \n",
    "    outer_epochs = 10,\n",
    "    inner_epochs = 2,\n",
    "    hidden_dims = 64, hidden_layers = 2,\n",
    ")"
   ]
  },
  {
   "cell_type": "code",
   "execution_count": 3,
   "id": "3ea80da6",
   "metadata": {},
   "outputs": [
    {
     "name": "stdout",
     "output_type": "stream",
     "text": [
      "ParameterReshaper: 6792 parameters detected for optimization.\n"
     ]
    }
   ],
   "source": [
    "trainer = NCA_Trainer(config)"
   ]
  }
 ],
 "metadata": {
  "kernelspec": {
   "display_name": "metandp",
   "language": "python",
   "name": "metandp"
  },
  "language_info": {
   "codemirror_mode": {
    "name": "ipython",
    "version": 3
   },
   "file_extension": ".py",
   "mimetype": "text/x-python",
   "name": "python",
   "nbconvert_exporter": "python",
   "pygments_lexer": "ipython3",
   "version": "3.11.3"
  }
 },
 "nbformat": 4,
 "nbformat_minor": 5
}
