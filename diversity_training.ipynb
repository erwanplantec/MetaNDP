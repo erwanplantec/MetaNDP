{
 "cells": [
  {
   "cell_type": "code",
   "execution_count": 1,
   "id": "2c125d88",
   "metadata": {},
   "outputs": [],
   "source": [
    "import jax\n",
    "import jax.numpy as jnp\n",
    "from evosax import ParameterReshaper\n",
    "import ipyplot\n",
    "import matplotlib.pyplot as plt\n",
    "plt.style.use('fivethirtyeight')"
   ]
  },
  {
   "cell_type": "markdown",
   "id": "34357877",
   "metadata": {},
   "source": [
    "# Setup"
   ]
  },
  {
   "cell_type": "markdown",
   "id": "f7bcdf03",
   "metadata": {},
   "source": [
    "### Create environment"
   ]
  },
  {
   "cell_type": "code",
   "execution_count": 2,
   "id": "588272a4",
   "metadata": {},
   "outputs": [],
   "source": [
    "import gymnax as gym"
   ]
  },
  {
   "cell_type": "code",
   "execution_count": 3,
   "id": "7518fb99",
   "metadata": {},
   "outputs": [],
   "source": [
    "env_name = \"MountainCar-v0\"\n",
    "env, env_params = gym.make(env_name)\n",
    "n_actions = env.action_space(env_params).n\n",
    "obs_dims = env.observation_space(env_params).shape[0]"
   ]
  },
  {
   "cell_type": "code",
   "execution_count": 4,
   "id": "81120039",
   "metadata": {},
   "outputs": [],
   "source": [
    "env_steps = env_params.max_steps_in_episode"
   ]
  },
  {
   "cell_type": "markdown",
   "id": "5847e73f",
   "metadata": {},
   "source": [
    "### Create NDP and Policy"
   ]
  },
  {
   "cell_type": "code",
   "execution_count": 5,
   "id": "167f3d1d",
   "metadata": {},
   "outputs": [],
   "source": [
    "from models import HyperNCA, HyperNCA_Config\n",
    "from policies import MLPPolicy"
   ]
  },
  {
   "cell_type": "code",
   "execution_count": 6,
   "id": "8d4801e8",
   "metadata": {},
   "outputs": [],
   "source": [
    "# MLP configuration\n",
    "mlp_hidden_dims = max((obs_dims, n_actions)) # nb of features for each hidden layer\n",
    "mlp_hidden_layers = 1 # nb of hidden layers\n",
    "mlp_action_dims = n_actions \n",
    "mlp_obs_dims = obs_dims"
   ]
  },
  {
   "cell_type": "code",
   "execution_count": 7,
   "id": "1cdb7295",
   "metadata": {},
   "outputs": [
    {
     "data": {
      "text/plain": [
       "FrozenDict({\n",
       "    params: {\n",
       "        mlp: {\n",
       "            layers_0: {\n",
       "                kernel: Array([[-0.0854697 , -0.42540255, -0.10164906],\n",
       "                       [-0.11355377,  0.05332496, -1.1430653 ]], dtype=float32),\n",
       "            },\n",
       "            out_layer: {\n",
       "                kernel: Array([[-0.68307227,  0.38337517, -0.16882634],\n",
       "                       [-0.7283222 , -0.1463625 , -0.5922689 ],\n",
       "                       [-0.16727802, -1.1538497 , -0.2005003 ]], dtype=float32),\n",
       "            },\n",
       "        },\n",
       "    },\n",
       "})"
      ]
     },
     "execution_count": 7,
     "metadata": {},
     "output_type": "execute_result"
    }
   ],
   "source": [
    "policy = MLPPolicy(mlp_action_dims, mlp_hidden_layers,\n",
    "                  mlp_hidden_dims, mode=\"categorical\")\n",
    "key = jax.random.PRNGKey(42)\n",
    "policy_params = policy.init(key, jnp.zeros((obs_dims,)), key)\n",
    "policy_params"
   ]
  },
  {
   "cell_type": "code",
   "execution_count": 8,
   "id": "68c3a519",
   "metadata": {},
   "outputs": [],
   "source": [
    "# NCA Configuration\n",
    "channels = 4\n",
    "alpha = 0.1 # alive threshold\n",
    "perception_dims = 3 # nb of perception kernels\n",
    "update_features = (16,) # hidden features of update network\n",
    "\n",
    "iterations = 20 #number of development steps"
   ]
  },
  {
   "cell_type": "code",
   "execution_count": 9,
   "id": "aadfdad7",
   "metadata": {},
   "outputs": [],
   "source": [
    "ndp_config = HyperNCA_Config(\n",
    "    channels = channels,\n",
    "    alpha = alpha,\n",
    "    perception_dims = perception_dims,\n",
    "    update_features = update_features,\n",
    "    iterations = iterations,\n",
    "    action_dims = n_actions,\n",
    "    obs_dims = obs_dims,\n",
    "    hidden_dims = mlp_hidden_dims,\n",
    "    hidden_layers = mlp_hidden_layers\n",
    ")"
   ]
  },
  {
   "cell_type": "code",
   "execution_count": 10,
   "id": "f31a8eac",
   "metadata": {},
   "outputs": [],
   "source": [
    "ndp = HyperNCA(ndp_config)"
   ]
  },
  {
   "cell_type": "code",
   "execution_count": 11,
   "id": "3c69a39d",
   "metadata": {},
   "outputs": [
    {
     "data": {
      "text/plain": [
       "4"
      ]
     },
     "execution_count": 11,
     "metadata": {},
     "output_type": "execute_result"
    }
   ],
   "source": [
    "z_dims = ndp.z_dims # nb of dimensions of the latent space (channels)\n",
    "z_dims"
   ]
  },
  {
   "cell_type": "code",
   "execution_count": 12,
   "id": "0f35e2d5",
   "metadata": {},
   "outputs": [
    {
     "name": "stdout",
     "output_type": "stream",
     "text": [
      "ParameterReshaper: 580 parameters detected for optimization.\n"
     ]
    }
   ],
   "source": [
    "ndp_params = ndp.init(jax.random.PRNGKey(42), jnp.ones((z_dims, )))\n",
    "parameter_reshaper = ParameterReshaper(ndp_params)"
   ]
  },
  {
   "cell_type": "markdown",
   "id": "285b3311",
   "metadata": {},
   "source": [
    "### Create evaluator"
   ]
  },
  {
   "cell_type": "code",
   "execution_count": 13,
   "id": "add7ce39",
   "metadata": {},
   "outputs": [],
   "source": [
    "from evaluators import DiversityEvaluator, DiversityEvaluator_Config \n",
    "from envs import bd_mountain_car"
   ]
  },
  {
   "cell_type": "code",
   "execution_count": 14,
   "id": "f2f5ff56",
   "metadata": {},
   "outputs": [],
   "source": [
    "evaluator_config = DiversityEvaluator_Config(\n",
    "    epochs = 3,\n",
    "    env = env,\n",
    "    env_params = env_params,\n",
    "    env_steps = 200,\n",
    "    n_params = z_dims,\n",
    "    bd_extractor = bd_mountain_car,\n",
    "    popsize = 60,\n",
    "    score_fn = 'knn_sparsity'\n",
    ")"
   ]
  },
  {
   "cell_type": "code",
   "execution_count": 15,
   "id": "da882be5",
   "metadata": {},
   "outputs": [],
   "source": [
    "evaluator = DiversityEvaluator(evaluator_config, ndp, policy)"
   ]
  },
  {
   "cell_type": "markdown",
   "id": "6257750a",
   "metadata": {},
   "source": [
    "### Create Trainer"
   ]
  },
  {
   "cell_type": "code",
   "execution_count": 16,
   "id": "65f75458",
   "metadata": {},
   "outputs": [],
   "source": [
    "from metandp import NDP_Trainer, Config"
   ]
  },
  {
   "cell_type": "code",
   "execution_count": 17,
   "id": "0ee89988",
   "metadata": {},
   "outputs": [],
   "source": [
    "trainer_config = Config(\n",
    "    epochs = 200,\n",
    "    n_params = parameter_reshaper.total_params,\n",
    "    params_shaper = parameter_reshaper,\n",
    "    es = \"des\",\n",
    "    popsize = 64,\n",
    "    es_config = {},\n",
    "    es_params = None\n",
    ")"
   ]
  },
  {
   "cell_type": "code",
   "execution_count": 18,
   "id": "69a0d57d",
   "metadata": {},
   "outputs": [],
   "source": [
    "ndp_trainer = NDP_Trainer(trainer_config, ndp, evaluator)"
   ]
  },
  {
   "cell_type": "markdown",
   "id": "8491d576",
   "metadata": {},
   "source": [
    "# Train"
   ]
  },
  {
   "cell_type": "code",
   "execution_count": 19,
   "id": "3f54fc58",
   "metadata": {
    "scrolled": true
   },
   "outputs": [
    {
     "name": "stdout",
     "output_type": "stream",
     "text": [
      "\tINNER LOOP #0\n",
      "\tINNER LOOP #1\n",
      "\tINNER LOOP #2\n",
      "OUTER LOOP #0 : avg = 0.003312010783702135, top = 0.004178614355623722, best = -0.004178614355623722\n",
      "\tINNER LOOP #0\n",
      "\tINNER LOOP #1\n",
      "\tINNER LOOP #2\n",
      "OUTER LOOP #1 : avg = 0.003257723757997155, top = 0.004132397472858429, best = -0.004178614355623722\n",
      "\tINNER LOOP #0\n",
      "\tINNER LOOP #1\n"
     ]
    },
    {
     "ename": "XlaRuntimeError",
     "evalue": "INTERNAL: Generated function failed: CpuCallback error: KeyboardInterrupt: <EMPTY MESSAGE>\n\nAt:\n  /Users/erpl/anaconda3/envs/metandp/lib/python3.11/site-packages/jax/_src/interpreters/mlir.py(1760): _wrapped_callback\n  /Users/erpl/anaconda3/envs/metandp/lib/python3.11/site-packages/jax/_src/interpreters/pxla.py(1346): __call__\n  /Users/erpl/anaconda3/envs/metandp/lib/python3.11/site-packages/jax/_src/profiler.py(314): wrapper\n  /Users/erpl/anaconda3/envs/metandp/lib/python3.11/site-packages/jax/_src/dispatch.py(142): apply_primitive\n  /Users/erpl/anaconda3/envs/metandp/lib/python3.11/site-packages/jax/_src/core.py(790): process_primitive\n  /Users/erpl/anaconda3/envs/metandp/lib/python3.11/site-packages/jax/_src/core.py(383): bind_with_trace\n  /Users/erpl/anaconda3/envs/metandp/lib/python3.11/site-packages/jax/_src/core.py(2633): bind\n  /Users/erpl/anaconda3/envs/metandp/lib/python3.11/site-packages/jax/_src/lax/control_flow/loops.py(1031): scan_bind\n  /Users/erpl/anaconda3/envs/metandp/lib/python3.11/site-packages/jax/_src/lax/control_flow/loops.py(262): scan\n  /Users/erpl/anaconda3/envs/metandp/lib/python3.11/site-packages/jax/_src/traceback_util.py(166): reraise_with_filtered_traceback\n  /Users/erpl/Library/CloudStorage/OneDrive-ITU/Documents/projects/MetaNDP/metandp.py(115): train\n  /var/folders/8d/5vjv51g957zb9g2039y64g1c0000gn/T/ipykernel_66784/2174908769.py(2): <module>\n  /Users/erpl/.local/lib/python3.11/site-packages/IPython/core/interactiveshell.py(3508): run_code\n  /Users/erpl/.local/lib/python3.11/site-packages/IPython/core/interactiveshell.py(3448): run_ast_nodes\n  /Users/erpl/.local/lib/python3.11/site-packages/IPython/core/interactiveshell.py(3269): run_cell_async\n  /Users/erpl/.local/lib/python3.11/site-packages/IPython/core/async_helpers.py(129): _pseudo_sync_runner\n  /Users/erpl/.local/lib/python3.11/site-packages/IPython/core/interactiveshell.py(3064): _run_cell\n  /Users/erpl/.local/lib/python3.11/site-packages/IPython/core/interactiveshell.py(3009): run_cell\n  /Users/erpl/.local/lib/python3.11/site-packages/ipykernel/zmqshell.py(540): run_cell\n  /Users/erpl/.local/lib/python3.11/site-packages/ipykernel/ipkernel.py(422): do_execute\n  /Users/erpl/.local/lib/python3.11/site-packages/ipykernel/kernelbase.py(729): execute_request\n  /Users/erpl/.local/lib/python3.11/site-packages/ipykernel/kernelbase.py(409): dispatch_shell\n  /Users/erpl/.local/lib/python3.11/site-packages/ipykernel/kernelbase.py(502): process_one\n  /Users/erpl/.local/lib/python3.11/site-packages/ipykernel/kernelbase.py(513): dispatch_queue\n  /Users/erpl/anaconda3/envs/metandp/lib/python3.11/asyncio/events.py(80): _run\n  /Users/erpl/anaconda3/envs/metandp/lib/python3.11/asyncio/base_events.py(1922): _run_once\n  /Users/erpl/anaconda3/envs/metandp/lib/python3.11/asyncio/base_events.py(607): run_forever\n  /Users/erpl/.local/lib/python3.11/site-packages/tornado/platform/asyncio.py(195): start\n  /Users/erpl/.local/lib/python3.11/site-packages/ipykernel/kernelapp.py(725): start\n  /Users/erpl/.local/lib/python3.11/site-packages/traitlets/config/application.py(1043): launch_instance\n  /Users/erpl/.local/lib/python3.11/site-packages/ipykernel_launcher.py(17): <module>\n  <frozen runpy>(88): _run_code\n  <frozen runpy>(198): _run_module_as_main\n",
     "output_type": "error",
     "traceback": [
      "\u001b[0;31m---------------------------------------------------------------------------\u001b[0m",
      "\u001b[0;31mXlaRuntimeError\u001b[0m                           Traceback (most recent call last)",
      "Cell \u001b[0;32mIn[19], line 2\u001b[0m\n\u001b[1;32m      1\u001b[0m key \u001b[38;5;241m=\u001b[39m jax\u001b[38;5;241m.\u001b[39mrandom\u001b[38;5;241m.\u001b[39mPRNGKey(\u001b[38;5;241m42\u001b[39m)\n\u001b[0;32m----> 2\u001b[0m es_state, data \u001b[38;5;241m=\u001b[39m \u001b[43mndp_trainer\u001b[49m\u001b[38;5;241;43m.\u001b[39;49m\u001b[43mtrain\u001b[49m\u001b[43m(\u001b[49m\u001b[43mkey\u001b[49m\u001b[43m)\u001b[49m\n",
      "File \u001b[0;32m~/Library/CloudStorage/OneDrive-ITU/Documents/projects/MetaNDP/metandp.py:115\u001b[0m, in \u001b[0;36mNDP_Trainer._build_trainer.<locals>.train\u001b[0;34m(key)\u001b[0m\n\u001b[1;32m    113\u001b[0m es_state \u001b[38;5;241m=\u001b[39m \u001b[38;5;28mself\u001b[39m\u001b[38;5;241m.\u001b[39mes\u001b[38;5;241m.\u001b[39minitialize(init_key, \u001b[38;5;28mself\u001b[39m\u001b[38;5;241m.\u001b[39mes_params)\n\u001b[1;32m    114\u001b[0m gens \u001b[38;5;241m=\u001b[39m jnp\u001b[38;5;241m.\u001b[39marange(\u001b[38;5;28mself\u001b[39m\u001b[38;5;241m.\u001b[39mconfig\u001b[38;5;241m.\u001b[39mepochs)\n\u001b[0;32m--> 115\u001b[0m [es_state, _], data \u001b[38;5;241m=\u001b[39m \u001b[43mjax\u001b[49m\u001b[38;5;241;43m.\u001b[39;49m\u001b[43mlax\u001b[49m\u001b[38;5;241;43m.\u001b[39;49m\u001b[43mscan\u001b[49m\u001b[43m(\u001b[49m\u001b[43mes_step\u001b[49m\u001b[43m,\u001b[49m\u001b[43m \u001b[49m\u001b[43m[\u001b[49m\u001b[43mes_state\u001b[49m\u001b[43m,\u001b[49m\u001b[43m \u001b[49m\u001b[43mkey\u001b[49m\u001b[43m]\u001b[49m\u001b[43m,\u001b[49m\u001b[43m \u001b[49m\u001b[43mgens\u001b[49m\u001b[43m)\u001b[49m\n\u001b[1;32m    117\u001b[0m \u001b[38;5;28;01mreturn\u001b[39;00m es_state, data\n",
      "    \u001b[0;31m[... skipping hidden 8 frame]\u001b[0m\n",
      "File \u001b[0;32m~/anaconda3/envs/metandp/lib/python3.11/site-packages/jax/_src/interpreters/pxla.py:1346\u001b[0m, in \u001b[0;36mExecuteReplicated.__call__\u001b[0;34m(self, *args)\u001b[0m\n\u001b[1;32m   1341\u001b[0m   \u001b[38;5;28mself\u001b[39m\u001b[38;5;241m.\u001b[39m_handle_token_bufs(\n\u001b[1;32m   1342\u001b[0m       results\u001b[38;5;241m.\u001b[39mdisassemble_prefix_into_single_device_arrays(\n\u001b[1;32m   1343\u001b[0m           \u001b[38;5;28mlen\u001b[39m(\u001b[38;5;28mself\u001b[39m\u001b[38;5;241m.\u001b[39mordered_effects)),\n\u001b[1;32m   1344\u001b[0m       results\u001b[38;5;241m.\u001b[39mconsume_token())\n\u001b[1;32m   1345\u001b[0m \u001b[38;5;28;01melse\u001b[39;00m:\n\u001b[0;32m-> 1346\u001b[0m   results \u001b[38;5;241m=\u001b[39m \u001b[38;5;28;43mself\u001b[39;49m\u001b[38;5;241;43m.\u001b[39;49m\u001b[43mxla_executable\u001b[49m\u001b[38;5;241;43m.\u001b[39;49m\u001b[43mexecute_sharded\u001b[49m\u001b[43m(\u001b[49m\u001b[43minput_bufs\u001b[49m\u001b[43m)\u001b[49m\n\u001b[1;32m   1347\u001b[0m \u001b[38;5;28;01mif\u001b[39;00m dispatch\u001b[38;5;241m.\u001b[39mneeds_check_special():\n\u001b[1;32m   1348\u001b[0m   out_arrays \u001b[38;5;241m=\u001b[39m results\u001b[38;5;241m.\u001b[39mdisassemble_into_single_device_arrays()\n",
      "\u001b[0;31mXlaRuntimeError\u001b[0m: INTERNAL: Generated function failed: CpuCallback error: KeyboardInterrupt: <EMPTY MESSAGE>\n\nAt:\n  /Users/erpl/anaconda3/envs/metandp/lib/python3.11/site-packages/jax/_src/interpreters/mlir.py(1760): _wrapped_callback\n  /Users/erpl/anaconda3/envs/metandp/lib/python3.11/site-packages/jax/_src/interpreters/pxla.py(1346): __call__\n  /Users/erpl/anaconda3/envs/metandp/lib/python3.11/site-packages/jax/_src/profiler.py(314): wrapper\n  /Users/erpl/anaconda3/envs/metandp/lib/python3.11/site-packages/jax/_src/dispatch.py(142): apply_primitive\n  /Users/erpl/anaconda3/envs/metandp/lib/python3.11/site-packages/jax/_src/core.py(790): process_primitive\n  /Users/erpl/anaconda3/envs/metandp/lib/python3.11/site-packages/jax/_src/core.py(383): bind_with_trace\n  /Users/erpl/anaconda3/envs/metandp/lib/python3.11/site-packages/jax/_src/core.py(2633): bind\n  /Users/erpl/anaconda3/envs/metandp/lib/python3.11/site-packages/jax/_src/lax/control_flow/loops.py(1031): scan_bind\n  /Users/erpl/anaconda3/envs/metandp/lib/python3.11/site-packages/jax/_src/lax/control_flow/loops.py(262): scan\n  /Users/erpl/anaconda3/envs/metandp/lib/python3.11/site-packages/jax/_src/traceback_util.py(166): reraise_with_filtered_traceback\n  /Users/erpl/Library/CloudStorage/OneDrive-ITU/Documents/projects/MetaNDP/metandp.py(115): train\n  /var/folders/8d/5vjv51g957zb9g2039y64g1c0000gn/T/ipykernel_66784/2174908769.py(2): <module>\n  /Users/erpl/.local/lib/python3.11/site-packages/IPython/core/interactiveshell.py(3508): run_code\n  /Users/erpl/.local/lib/python3.11/site-packages/IPython/core/interactiveshell.py(3448): run_ast_nodes\n  /Users/erpl/.local/lib/python3.11/site-packages/IPython/core/interactiveshell.py(3269): run_cell_async\n  /Users/erpl/.local/lib/python3.11/site-packages/IPython/core/async_helpers.py(129): _pseudo_sync_runner\n  /Users/erpl/.local/lib/python3.11/site-packages/IPython/core/interactiveshell.py(3064): _run_cell\n  /Users/erpl/.local/lib/python3.11/site-packages/IPython/core/interactiveshell.py(3009): run_cell\n  /Users/erpl/.local/lib/python3.11/site-packages/ipykernel/zmqshell.py(540): run_cell\n  /Users/erpl/.local/lib/python3.11/site-packages/ipykernel/ipkernel.py(422): do_execute\n  /Users/erpl/.local/lib/python3.11/site-packages/ipykernel/kernelbase.py(729): execute_request\n  /Users/erpl/.local/lib/python3.11/site-packages/ipykernel/kernelbase.py(409): dispatch_shell\n  /Users/erpl/.local/lib/python3.11/site-packages/ipykernel/kernelbase.py(502): process_one\n  /Users/erpl/.local/lib/python3.11/site-packages/ipykernel/kernelbase.py(513): dispatch_queue\n  /Users/erpl/anaconda3/envs/metandp/lib/python3.11/asyncio/events.py(80): _run\n  /Users/erpl/anaconda3/envs/metandp/lib/python3.11/asyncio/base_events.py(1922): _run_once\n  /Users/erpl/anaconda3/envs/metandp/lib/python3.11/asyncio/base_events.py(607): run_forever\n  /Users/erpl/.local/lib/python3.11/site-packages/tornado/platform/asyncio.py(195): start\n  /Users/erpl/.local/lib/python3.11/site-packages/ipykernel/kernelapp.py(725): start\n  /Users/erpl/.local/lib/python3.11/site-packages/traitlets/config/application.py(1043): launch_instance\n  /Users/erpl/.local/lib/python3.11/site-packages/ipykernel_launcher.py(17): <module>\n  <frozen runpy>(88): _run_code\n  <frozen runpy>(198): _run_module_as_main\n"
     ]
    }
   ],
   "source": [
    "key = jax.random.PRNGKey(42)\n",
    "es_state, data = ndp_trainer.train(key)"
   ]
  },
  {
   "cell_type": "code",
   "execution_count": null,
   "id": "68dad6e5",
   "metadata": {},
   "outputs": [],
   "source": [
    "fitness = data['fitness']\n",
    "avg_fitness = jnp.mean(fitness, axis=-1)\n",
    "max_fitness = jnp.max(fitness, axis=-1)\n",
    "best_fitness = -data['es_state'].best_fitness\n",
    "\n",
    "plt.plot(avg_fitness, label='avg')\n",
    "plt.plot(max_fitness, label='top-gen')\n",
    "plt.plot(best_fitness, label='best')\n",
    "plt.legend()\n",
    "plt.xlabel('generation')\n",
    "plt.ylabel('fitness')\n",
    "plt.show()"
   ]
  },
  {
   "cell_type": "code",
   "execution_count": null,
   "id": "1f684814",
   "metadata": {},
   "outputs": [],
   "source": [
    "best_params = es_state.best_member\n",
    "best_params = parameter_reshaper.reshape(best_params[None, :])\n",
    "best_params = jax.tree_map(lambda x: x[0], best_params)\n",
    "test_key = jax.random.PRNGKey(90)\n",
    "fit_best, best_test_data = evaluator.test(test_key, best_params, n_samples=1000, \n",
    "                                  render=False)\n",
    "bd_extractor = evaluator.config.bd_extractor\n",
    "bds_best = jax.vmap(bd_extractor)(best_test_data)\n",
    "fit_best"
   ]
  },
  {
   "cell_type": "code",
   "execution_count": null,
   "id": "93d44cd1",
   "metadata": {},
   "outputs": [],
   "source": [
    "worst_params = data['es_state'].best_member[0]\n",
    "worst_params = parameter_reshaper.reshape(worst_params[None, :])\n",
    "worst_params = jax.tree_map(lambda x: x[0], worst_params)\n",
    "test_key = jax.random.PRNGKey(66)\n",
    "fit_worst, worst_test_data = evaluator.test(test_key, worst_params, n_samples=1000, \n",
    "                                  render=False)\n",
    "bd_extractor = evaluator.config.bd_extractor\n",
    "bds_worst = jax.vmap(bd_extractor)(worst_test_data)\n",
    "fit_worst"
   ]
  },
  {
   "cell_type": "code",
   "execution_count": null,
   "id": "86e3ef53",
   "metadata": {},
   "outputs": [],
   "source": [
    "s=20.\n",
    "plt.scatter(bds_best[:, 0], bds_best[:, 1], label='evolved NDP',\n",
    "           alpha = .3, s=s)\n",
    "plt.scatter(bds_worst[:, 0], bds_worst[:, 1], label='random NDP',\n",
    "           alpha=.3, s=s)\n",
    "plt.legend()\n",
    "plt.xlabel('min x')\n",
    "plt.ylabel('max x')\n",
    "plt.show()"
   ]
  },
  {
   "cell_type": "code",
   "execution_count": null,
   "id": "244ce60c",
   "metadata": {},
   "outputs": [],
   "source": [
    "import pandas as pd\n",
    "import seaborn as sns"
   ]
  },
  {
   "cell_type": "code",
   "execution_count": null,
   "id": "5b1a4c37",
   "metadata": {},
   "outputs": [],
   "source": [
    "data_best = pd.DataFrame()\n",
    "data_best[[\"BC_1\", \"BC_2\"]] = bds_best\n",
    "data_best['NDP'] = \"HyperNCA - evolved\""
   ]
  },
  {
   "cell_type": "code",
   "execution_count": null,
   "id": "32b8bbea",
   "metadata": {},
   "outputs": [],
   "source": [
    "data_wrst = pd.DataFrame()\n",
    "data_wrst[[\"BC_1\", \"BC_2\"]] = bds_worst\n",
    "data_wrst['NDP'] = \"HyperNCA - random\""
   ]
  },
  {
   "cell_type": "code",
   "execution_count": null,
   "id": "fa3966fe",
   "metadata": {},
   "outputs": [],
   "source": [
    "full_data = pd.concat([data_best, data_wrst])"
   ]
  },
  {
   "cell_type": "code",
   "execution_count": null,
   "id": "b6dc2665",
   "metadata": {},
   "outputs": [],
   "source": [
    "sns.jointplot(data=full_data, x=\"BC_1\", y=\"BC_2\", hue=\"NDP\", kind='scatter',\n",
    "             alpha = .3, s= 15., legend=False)"
   ]
  },
  {
   "cell_type": "code",
   "execution_count": null,
   "id": "dca4e621",
   "metadata": {},
   "outputs": [],
   "source": [
    "best_members = data['es_state'].best_member"
   ]
  },
  {
   "cell_type": "markdown",
   "id": "7e5f72d2",
   "metadata": {},
   "source": [
    "### Evaluate compositionality"
   ]
  },
  {
   "cell_type": "code",
   "execution_count": null,
   "id": "67fa2e0c",
   "metadata": {},
   "outputs": [],
   "source": [
    "from evaluators import CompositionalityEvaluator, CompositionalityEvaluator_Config"
   ]
  },
  {
   "cell_type": "code",
   "execution_count": null,
   "id": "bab69168",
   "metadata": {},
   "outputs": [],
   "source": [
    "evaluator_config = CompositionalityEvaluator_Config(\n",
    "    epochs = 1,\n",
    "    env = env,\n",
    "    env_params = env_params,\n",
    "    env_steps = 200,\n",
    "    mlp_hidden_dims = mlp_hidden_dims,\n",
    "    mlp_hidden_layers = mlp_hidden_layers,\n",
    "    n_params = z_dims,\n",
    "    bd_extractor = bd_mountain_car,\n",
    "    popsize = 60\n",
    ")\n",
    "evaluator = CompositionalityEvaluator(evaluator_config, ndp)"
   ]
  },
  {
   "cell_type": "code",
   "execution_count": null,
   "id": "c4e298b0",
   "metadata": {},
   "outputs": [],
   "source": [
    "key_eval = jax.random.PRNGKey(42)\n",
    "keys_eval = jax.random.split(key_eval, best_members.shape[0])\n",
    "ndp_params = parameter_reshaper.reshape(best_members)\n",
    "compos, data_compo = jax.vmap(evaluator.eval)(ndp_params, keys_eval)"
   ]
  },
  {
   "cell_type": "code",
   "execution_count": null,
   "id": "fe469110",
   "metadata": {},
   "outputs": [],
   "source": [
    "plt.plot(compos)"
   ]
  },
  {
   "cell_type": "markdown",
   "id": "d4ce8717",
   "metadata": {},
   "source": [
    "# Eval"
   ]
  },
  {
   "cell_type": "code",
   "execution_count": null,
   "id": "7c5aff88",
   "metadata": {},
   "outputs": [],
   "source": [
    "# from evaluators.simple_evaluator import SimpleEvaluator, SimpleEvaluator_Config"
   ]
  },
  {
   "cell_type": "code",
   "execution_count": null,
   "id": "15f316a9",
   "metadata": {},
   "outputs": [],
   "source": [
    "# opt_config = SimpleEvaluator_Config(\n",
    "#     epochs = 200,\n",
    "#     env = env,\n",
    "#     env_params = env_params,\n",
    "#     env_steps = 200,\n",
    "#     mlp_hidden_dims = mlp_hidden_dims,\n",
    "#     mlp_hidden_layers = mlp_hidden_layers,\n",
    "#     n_params = z_dims,\n",
    "#     es = \"openes\",\n",
    "#     popsize = 128\n",
    "# )\n",
    "\n",
    "# opt = SimpleEvaluator(opt_config, ndp)"
   ]
  },
  {
   "cell_type": "code",
   "execution_count": null,
   "id": "c6c592b2",
   "metadata": {},
   "outputs": [],
   "source": [
    "# key = jax.random.PRNGKey(33)\n",
    "# best_fit, best_data = opt.eval(best_params, key)\n",
    "# best_fit"
   ]
  },
  {
   "cell_type": "code",
   "execution_count": null,
   "id": "21a9942b",
   "metadata": {},
   "outputs": [],
   "source": [
    "# fitness = best_data['fitness']\n",
    "# avg_fitness = jnp.mean(fitness, axis=-1)\n",
    "# max_fitness = jnp.max(fitness, axis=-1)\n",
    "# best_fitness = -best_data['es_state'].best_fitness\n",
    "\n",
    "# plt.plot(avg_fitness, label='avg')\n",
    "# plt.plot(max_fitness, label='top-gen')\n",
    "# plt.plot(best_fitness, label='best')\n",
    "# plt.legend()\n",
    "# plt.xlabel('generation')\n",
    "# plt.ylabel('fitness')\n",
    "# plt.show()"
   ]
  },
  {
   "cell_type": "code",
   "execution_count": null,
   "id": "db3308a4",
   "metadata": {},
   "outputs": [],
   "source": [
    "# worst_fit, worst_data = opt.eval(worst_params, key)"
   ]
  },
  {
   "cell_type": "code",
   "execution_count": null,
   "id": "fdab854d",
   "metadata": {},
   "outputs": [],
   "source": [
    "# fitness = worst_data['fitness']\n",
    "# avg_fitness = jnp.mean(fitness, axis=-1)\n",
    "# max_fitness = jnp.max(fitness, axis=-1)\n",
    "# best_fitness = -best_data['es_state'].best_fitness\n",
    "\n",
    "# plt.plot(avg_fitness, label='avg')\n",
    "# plt.plot(max_fitness, label='top-gen')\n",
    "# plt.plot(best_fitness, label='best')\n",
    "# plt.legend()\n",
    "# plt.xlabel('generation')\n",
    "# plt.ylabel('fitness')\n",
    "# plt.show()"
   ]
  },
  {
   "cell_type": "markdown",
   "id": "ebb17703",
   "metadata": {},
   "source": [
    "# Visualize"
   ]
  },
  {
   "cell_type": "code",
   "execution_count": null,
   "id": "22f8e961",
   "metadata": {
    "scrolled": true
   },
   "outputs": [],
   "source": [
    "# %%capture\n",
    "# best_params = es_state.best_member\n",
    "# best_params = parameter_reshaper.reshape(best_params[None, :])\n",
    "# best_params = jax.tree_map(lambda x: x[0], best_params)\n",
    "# test_key = jax.random.PRNGKey(66)\n",
    "# fit, test_data, files = evaluator.test(test_key, best_params, n_samples=5, \n",
    "#                                   render=True, save_file=\"best\")"
   ]
  },
  {
   "cell_type": "code",
   "execution_count": null,
   "id": "092cb17c",
   "metadata": {},
   "outputs": [],
   "source": [
    "# ipyplot.plot_images(files)"
   ]
  },
  {
   "cell_type": "code",
   "execution_count": null,
   "id": "1ff0187a",
   "metadata": {},
   "outputs": [],
   "source": [
    "# %%capture\n",
    "# worst_params = data['es_state'].best_member[0]\n",
    "# worst_params = parameter_reshaper.reshape(worst_params[None, :])\n",
    "# worst_params = jax.tree_map(lambda x: x[0], worst_params)\n",
    "# test_key = jax.random.PRNGKey(66)\n",
    "# fit, test_data, files = evaluator.test(test_key, worst_params, n_samples=5, \n",
    "#                                   render=True, save_file=\"best\")"
   ]
  },
  {
   "cell_type": "code",
   "execution_count": null,
   "id": "91f52d89",
   "metadata": {},
   "outputs": [],
   "source": [
    "# ipyplot.plot_images(files)"
   ]
  }
 ],
 "metadata": {
  "kernelspec": {
   "display_name": "metandp",
   "language": "python",
   "name": "metandp"
  },
  "language_info": {
   "codemirror_mode": {
    "name": "ipython",
    "version": 3
   },
   "file_extension": ".py",
   "mimetype": "text/x-python",
   "name": "python",
   "nbconvert_exporter": "python",
   "pygments_lexer": "ipython3",
   "version": "3.11.3"
  }
 },
 "nbformat": 4,
 "nbformat_minor": 5
}
